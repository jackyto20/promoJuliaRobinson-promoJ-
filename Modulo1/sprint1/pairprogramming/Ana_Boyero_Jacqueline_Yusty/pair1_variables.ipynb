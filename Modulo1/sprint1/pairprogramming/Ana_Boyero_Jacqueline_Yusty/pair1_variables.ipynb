{
 "cells": [
  {
   "cell_type": "markdown",
   "metadata": {},
   "source": []
  },
  {
   "cell_type": "code",
   "execution_count": 6,
   "metadata": {},
   "outputs": [],
   "source": [
    "numero1 = 5\n",
    "numero2= 20\n",
    "numero3= 14"
   ]
  },
  {
   "cell_type": "code",
   "execution_count": 8,
   "metadata": {},
   "outputs": [
    {
     "name": "stdout",
     "output_type": "stream",
     "text": [
      "False\n"
     ]
    }
   ],
   "source": [
    "\n",
    "print(numero1 > numero2)\n"
   ]
  },
  {
   "cell_type": "code",
   "execution_count": 10,
   "metadata": {},
   "outputs": [
    {
     "name": "stdout",
     "output_type": "stream",
     "text": [
      "False\n"
     ]
    }
   ],
   "source": [
    "print(numero1 < numero2\n",
    "      and numero1 > numero3)"
   ]
  },
  {
   "cell_type": "code",
   "execution_count": 11,
   "metadata": {},
   "outputs": [
    {
     "name": "stdout",
     "output_type": "stream",
     "text": [
      "False\n"
     ]
    }
   ],
   "source": [
    "print(numero3 == numero2)"
   ]
  },
  {
   "cell_type": "code",
   "execution_count": 16,
   "metadata": {},
   "outputs": [],
   "source": [
    "altura1 = 1.50\n",
    "altura2 = 1.68"
   ]
  },
  {
   "cell_type": "code",
   "execution_count": 17,
   "metadata": {},
   "outputs": [
    {
     "name": "stdout",
     "output_type": "stream",
     "text": [
      "3.1799999999999997\n"
     ]
    }
   ],
   "source": [
    "altura_total = altura1 +  altura2\n",
    "print(altura_total)"
   ]
  },
  {
   "cell_type": "code",
   "execution_count": 18,
   "metadata": {},
   "outputs": [
    {
     "name": "stdout",
     "output_type": "stream",
     "text": [
      "-0.17999999999999994\n"
     ]
    }
   ],
   "source": [
    "diferencia = altura1 -altura2\n",
    "print(diferencia)"
   ]
  },
  {
   "cell_type": "code",
   "execution_count": 21,
   "metadata": {},
   "outputs": [
    {
     "name": "stdout",
     "output_type": "stream",
     "text": [
      "0.89\n"
     ]
    }
   ],
   "source": [
    "division = round(altura1 / altura2, 2)\n",
    "print(division)\n"
   ]
  },
  {
   "cell_type": "code",
   "execution_count": 31,
   "metadata": {},
   "outputs": [
    {
     "name": "stdout",
     "output_type": "stream",
     "text": [
      "Tu nombre completo es: JACKEI YUST E\n",
      "Tu nombre compelto en minuscula: jackei yust e\n",
      "Tu nombre tipo titulo: Jackei Yust E\n",
      "Tu nombre con letra capital: Jackei yust e\n"
     ]
    }
   ],
   "source": [
    "nombre = input(\"Cual es tu nombre de usuario?\")\n",
    "apellidos = input(\"Cuales son tus apellidos?\")\n",
    "\n",
    "nombre_completo = nombre+ \" \" + apellidos\n",
    "\n",
    "print(\"Tu nombre completo es:\", nombre_completo.upper())\n",
    "print(\"Tu nombre compelto en minuscula:\", nombre_completo.lower())\n",
    "print(\"Tu nombre tipo titulo:\", nombre_completo.title())\n",
    "print(\"Tu nombre con letra capital:\", nombre_completo.capitalize())\n",
    "\n",
    "                 "
   ]
  },
  {
   "cell_type": "code",
   "execution_count": 3,
   "metadata": {},
   "outputs": [
    {
     "name": "stdout",
     "output_type": "stream",
     "text": [
      "Usted a indicado: Hola amigos mios  A\n",
      "HolA Amigos mios\n"
     ]
    }
   ],
   "source": [
    "frase = input(\"Indica una frase:\")\n",
    "vocal = input(\"Indica una vocal:\")\n",
    "\n",
    "print(\"Usted a indicado:\", frase + \"  \"+ vocal.upper())\n",
    "\n",
    "print(frase.replace(vocal, vocal.upper()))"
   ]
  },
  {
   "cell_type": "code",
   "execution_count": 103,
   "metadata": {},
   "outputs": [
    {
     "name": "stdout",
     "output_type": "stream",
     "text": [
      "['manzana', 'pera', 'piña']\n",
      "manzana\n",
      "pera\n",
      "piña\n"
     ]
    }
   ],
   "source": [
    "###lista_compra = input(\"Indique articulos de compra separados por comas:\")\n",
    "\n",
    "\n",
    "art1 = input(\"Ingrese articulo 1:\")\n",
    "art2 = input(\"Ingrese articulo 2:\")\n",
    "art3 = input (\"Ingrese articulo 3:\")\n",
    "\n",
    "articulos = []\n",
    "\n",
    "articulos.append(art1)\n",
    "articulos.append(art2)\n",
    "articulos.append(art3)\n",
    "\n",
    "print(articulos)\n",
    "\n",
    "union_lista = \"\\n\".join(articulos)\n",
    "\n",
    "print(union_lista)\n",
    "\n",
    "\n"
   ]
  },
  {
   "cell_type": "code",
   "execution_count": 105,
   "metadata": {},
   "outputs": [
    {
     "name": "stdout",
     "output_type": "stream",
     "text": [
      "['Buenos', 'dias', 'chicas,', 'sigamos', 'aprendiendo', 'métodos', 'de', 'los', 'strings']\n"
     ]
    }
   ],
   "source": [
    "saludo = \"Buenos  dias chicas, sigamos aprendiendo métodos de los strings\"\n",
    "saludo_separado = saludo.split()\n",
    "print(saludo_separado)\n",
    "\n"
   ]
  },
  {
   "cell_type": "code",
   "execution_count": 1,
   "metadata": {},
   "outputs": [
    {
     "name": "stdout",
     "output_type": "stream",
     "text": [
      "tomates\n",
      " piña\n",
      " manzana\n"
     ]
    }
   ],
   "source": [
    "elementos = input(\"Apunta la lista de la compra, separando los elementos por comas\")\n",
    "lista = elementos.split(\",\")\n",
    "elementos_renglones = \"\\n\".join(lista)\n",
    "print(elementos_renglones)"
   ]
  }
 ],
 "metadata": {
  "kernelspec": {
   "display_name": "base",
   "language": "python",
   "name": "python3"
  },
  "language_info": {
   "codemirror_mode": {
    "name": "ipython",
    "version": 3
   },
   "file_extension": ".py",
   "mimetype": "text/x-python",
   "name": "python",
   "nbconvert_exporter": "python",
   "pygments_lexer": "ipython3",
   "version": "3.12.4"
  }
 },
 "nbformat": 4,
 "nbformat_minor": 2
}
