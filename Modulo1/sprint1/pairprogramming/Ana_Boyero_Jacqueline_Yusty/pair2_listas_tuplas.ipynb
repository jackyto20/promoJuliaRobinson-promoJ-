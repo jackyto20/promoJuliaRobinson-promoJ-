{
 "cells": [
  {
   "cell_type": "markdown",
   "metadata": {},
   "source": [
    "Duplicar elementos de una lista\n",
    "\n",
    "Descripción: Dada una lista de números, duplica cada elemento en la lista. Ejemplo:\n",
    "\n",
    "Copy\n",
    "# dada la siguiente lista el output esperado es:\n",
    "lista = [2, 4, 6, 8]\n",
    "\n",
    "[2, 4, 6, 8, 2, 4, 6, 8]"
   ]
  },
  {
   "cell_type": "code",
   "execution_count": 1,
   "metadata": {},
   "outputs": [
    {
     "name": "stdout",
     "output_type": "stream",
     "text": [
      "[2, 4, 6, 8, 2, 4, 6, 8]\n"
     ]
    }
   ],
   "source": [
    "lista = [2, 4, 6, 8]\n",
    "\n",
    "lista_duplicada = lista + lista\n",
    "\n",
    "print(lista_duplicada)"
   ]
  },
  {
   "cell_type": "markdown",
   "metadata": {},
   "source": [
    "Combinar dos listas\n",
    "\n",
    "Descripción: Dadas dos listas, crea una nueva lista que contenga todos los elementos de ambas listas. Ejemplo:\n",
    "\n",
    "Copy\n",
    "# dadas las siguientes listas el output esperado es:\n",
    "lista1 = [1, 2, 3]\n",
    "lista2 = [4, 5, 6]\n",
    "\n",
    "[1, 2, 3, 4, 5, 6]"
   ]
  },
  {
   "cell_type": "code",
   "execution_count": 2,
   "metadata": {},
   "outputs": [
    {
     "name": "stdout",
     "output_type": "stream",
     "text": [
      "[1, 2, 3, 4, 5, 6]\n"
     ]
    }
   ],
   "source": [
    "lista1 = [1, 2, 3]\n",
    "lista2 = [4, 5, 6]\n",
    "\n",
    "todas_listas = lista1 + lista2\n",
    "\n",
    "print(todas_listas)"
   ]
  },
  {
   "cell_type": "markdown",
   "metadata": {},
   "source": [
    "Calcular la suma de una lista de números\n",
    "\n",
    "Descripción: Dada una lista de números, calcula la suma de todos los elementos."
   ]
  },
  {
   "cell_type": "code",
   "execution_count": 7,
   "metadata": {},
   "outputs": [
    {
     "name": "stdout",
     "output_type": "stream",
     "text": [
      "21\n",
      "21\n"
     ]
    }
   ],
   "source": [
    "suma_total = sum(todas_listas)\n",
    "\n",
    "print(suma_total)\n",
    "\n",
    "suma_total2 = todas_listas[0] + todas_listas[1] + todas_listas[2] + todas_listas[3] + todas_listas[4] + todas_listas[5]\n",
    "\n",
    "print(suma_total2)"
   ]
  },
  {
   "cell_type": "markdown",
   "metadata": {},
   "source": [
    "\n",
    "Encontrar el valor máximo en una lista\n",
    "\n",
    "Descripción: Dada una lista de números, encuentra el valor máximo."
   ]
  },
  {
   "cell_type": "code",
   "execution_count": 10,
   "metadata": {},
   "outputs": [
    {
     "name": "stdout",
     "output_type": "stream",
     "text": [
      "[1, 2, 3, 4, 5, 6]\n",
      "6\n"
     ]
    }
   ],
   "source": [
    "print(todas_listas)\n",
    "\n",
    "valor_max = max(todas_listas)\n",
    "\n",
    "print(valor_max)"
   ]
  },
  {
   "cell_type": "markdown",
   "metadata": {},
   "source": [
    "Calcular la longitud de una lista\n",
    "\n",
    "Descripción: Dada una lista, calcula la cantidad de elementos que contiene."
   ]
  },
  {
   "cell_type": "code",
   "execution_count": 16,
   "metadata": {},
   "outputs": [
    {
     "name": "stdout",
     "output_type": "stream",
     "text": [
      "La longitud es: {6}\n"
     ]
    }
   ],
   "source": [
    "\n",
    "longitud = len(todas_listas)\n",
    "\n",
    "\n",
    "print(f\"La longitud es:\", {longitud})\n"
   ]
  },
  {
   "cell_type": "markdown",
   "metadata": {},
   "source": [
    "Encontrar el índice de un elemento en una lista\n",
    "\n",
    "Descripción: Dada una lista y un valor objetivo, encuentra el índice del primer elemento que coincida con el valor objetivo."
   ]
  },
  {
   "cell_type": "code",
   "execution_count": 13,
   "metadata": {},
   "outputs": [
    {
     "name": "stdout",
     "output_type": "stream",
     "text": [
      "1\n"
     ]
    }
   ],
   "source": [
    "print (todas_listas.index(2))"
   ]
  },
  {
   "cell_type": "markdown",
   "metadata": {},
   "source": [
    "Contar ocurrencias de un elemento en una lista\n",
    "\n",
    "Descripción: Dada una lista y un valor objetivo, cuenta cuántas veces aparece el valor objetivo en la lista."
   ]
  },
  {
   "cell_type": "code",
   "execution_count": 14,
   "metadata": {},
   "outputs": [
    {
     "name": "stdout",
     "output_type": "stream",
     "text": [
      "El nombre luisa aparece 2 veces\n"
     ]
    }
   ],
   "source": [
    "nombres = [\"Marta\", \"Luisa\", \"Pedro\", \"Luisa\"]\n",
    "\n",
    "numero_luisa = nombres.count(\"Luisa\")\n",
    "\n",
    "print(\"El nombre luisa aparece\", numero_luisa, \"veces\")"
   ]
  },
  {
   "cell_type": "markdown",
   "metadata": {},
   "source": [
    "Obtener una sublista de una lista\n",
    "\n",
    "Descripción: Dada una lista, crea una nueva lista que contenga los elementos desde el índice 2 hasta el índice 5 (sin incluirlo)."
   ]
  },
  {
   "cell_type": "code",
   "execution_count": 18,
   "metadata": {},
   "outputs": [
    {
     "name": "stdout",
     "output_type": "stream",
     "text": [
      "[1, 2, 3, 4, 5, 6]\n",
      "Los datos del 2 al 4 son: [3, 4, 5]\n"
     ]
    }
   ],
   "source": [
    "print(todas_listas)\n",
    "\n",
    "sublista = todas_listas [2:5]\n",
    "\n",
    "print(\"Los datos del 2 al 4 son:\", sublista)\n"
   ]
  },
  {
   "cell_type": "markdown",
   "metadata": {},
   "source": [
    "Obtener el último elemento de una lista\n",
    "\n",
    "Descripción: Dada una lista, obtén el último elemento."
   ]
  },
  {
   "cell_type": "code",
   "execution_count": 19,
   "metadata": {},
   "outputs": [
    {
     "name": "stdout",
     "output_type": "stream",
     "text": [
      "El ultimo dato es 6\n"
     ]
    }
   ],
   "source": [
    "ultimo_dato = todas_listas[-1]\n",
    "\n",
    "print(\"El ultimo dato es\", ultimo_dato)\n"
   ]
  },
  {
   "cell_type": "markdown",
   "metadata": {},
   "source": [
    "Obtener una sublista de una lista\n",
    "\n",
    "Descripción: Dada una lista, obtén una sublista que contenga los elementos desde el índice 1 hasta el índice 3 (sin incluirlo)."
   ]
  },
  {
   "cell_type": "code",
   "execution_count": 21,
   "metadata": {},
   "outputs": [
    {
     "name": "stdout",
     "output_type": "stream",
     "text": [
      "Estos son los elementos del 1 al 2: [2, 3]\n"
     ]
    }
   ],
   "source": [
    "sublista2 = todas_listas[1:3]\n",
    "\n",
    "print(\"Estos son los elementos del 1 al 2:\", sublista2)"
   ]
  },
  {
   "cell_type": "markdown",
   "metadata": {},
   "source": [
    "Reemplazar un elemento en una lista\n",
    "\n",
    "Descripción: Dada una lista, reemplaza el segundo elemento con un nuevo valor."
   ]
  },
  {
   "cell_type": "code",
   "execution_count": 23,
   "metadata": {},
   "outputs": [
    {
     "name": "stdout",
     "output_type": "stream",
     "text": [
      "Hemos reemplazado el valor del indice 1 por:, [1, 18, 3, 4, 5, 6]\n"
     ]
    }
   ],
   "source": [
    "todas_listas[1] = 18\n",
    "\n",
    "print(\"Hemos reemplazado el valor del indice 1 por:,\", todas_listas)"
   ]
  },
  {
   "cell_type": "markdown",
   "metadata": {},
   "source": [
    "Obtener una lista inversa\n",
    "\n",
    "Descripción: Dada una lista, obtén una nueva lista que contenga los elementos en orden inverso."
   ]
  },
  {
   "cell_type": "code",
   "execution_count": 30,
   "metadata": {},
   "outputs": [
    {
     "name": "stdout",
     "output_type": "stream",
     "text": [
      "Esta es la lista origina: [18, 6, 5, 4, 3, 1]\n",
      "Esta es la lista en orden inverso: [1, 3, 4, 5, 6, 18]\n"
     ]
    }
   ],
   "source": [
    "\n",
    "nueva_lista = todas_listas.copy()\n",
    "\n",
    "nueva_lista.reverse()\n",
    "\n",
    "print(\"Esta es la lista original:\", todas_listas)\n",
    "\n",
    "print(\"Esta es la lista en orden inverso:\", nueva_lista)\n",
    "\n",
    "\n"
   ]
  },
  {
   "cell_type": "markdown",
   "metadata": {},
   "source": []
  }
 ],
 "metadata": {
  "kernelspec": {
   "display_name": "base",
   "language": "python",
   "name": "python3"
  },
  "language_info": {
   "codemirror_mode": {
    "name": "ipython",
    "version": 3
   },
   "file_extension": ".py",
   "mimetype": "text/x-python",
   "name": "python",
   "nbconvert_exporter": "python",
   "pygments_lexer": "ipython3",
   "version": "3.12.4"
  }
 },
 "nbformat": 4,
 "nbformat_minor": 2
}
