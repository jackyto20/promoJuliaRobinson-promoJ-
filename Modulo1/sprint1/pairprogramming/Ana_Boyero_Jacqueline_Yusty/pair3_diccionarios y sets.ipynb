{
 "cells": [
  {
   "cell_type": "markdown",
   "metadata": {},
   "source": [
    "Ejercicios diccionarios\n",
    "Crear un diccionario vacío"
   ]
  },
  {
   "cell_type": "code",
   "execution_count": 4,
   "metadata": {},
   "outputs": [],
   "source": [
    "vacio ={}"
   ]
  },
  {
   "cell_type": "markdown",
   "metadata": {},
   "source": [
    "Descripción: Crea un diccionario con pares clave-valor predefinidos. Definir el diccionario con las claves y valores que querais. NOTA El diccionario debe tener al menos 5 pares de clave:valor."
   ]
  },
  {
   "cell_type": "code",
   "execution_count": 3,
   "metadata": {},
   "outputs": [],
   "source": [
    "amigas = {\"Noelia\": 16, \"Sara\":13, \"Valeria\": 15, \"Tania\": 14, \"Laura\": 16 }"
   ]
  },
  {
   "cell_type": "markdown",
   "metadata": {},
   "source": [
    "\n",
    "Descripción: Usando el diccionario creado en el paso anterior, obtén el valor correspondiente a una clave específica que indique el usuario (debereis usar la función input() para preguntar al usuario).\n"
   ]
  },
  {
   "cell_type": "code",
   "execution_count": 5,
   "metadata": {},
   "outputs": [
    {
     "name": "stdout",
     "output_type": "stream",
     "text": [
      "El usuario ha consultado Noelia y el valor asociado es: 16\n"
     ]
    }
   ],
   "source": [
    "clave = input(\"¿A qué clave quieres acceder?\")\n",
    "print(f\"El usuario ha consultado {clave} y el valor asociado es: {amigas[clave]}\")"
   ]
  },
  {
   "cell_type": "markdown",
   "metadata": {},
   "source": [
    "Agregar un nuevo par clave-valor a un diccionario"
   ]
  },
  {
   "cell_type": "code",
   "execution_count": 6,
   "metadata": {},
   "outputs": [
    {
     "name": "stdout",
     "output_type": "stream",
     "text": [
      "Mi diccionario de amigas actualizado queda: {'Noelia': 16, 'Sara': 13, 'Valeria': 15, 'Tania': 14, 'Laura': 16, 'Irene': 18}\n"
     ]
    }
   ],
   "source": [
    "amigas.update({\"Irene\": 18})\n",
    "print(f\"Mi diccionario de amigas actualizado queda: {amigas}\")"
   ]
  },
  {
   "cell_type": "markdown",
   "metadata": {},
   "source": [
    "Actualizar el valor de una clave en un diccionario\n",
    "\n",
    "Descripción: Usando el diccionario creado en el ejercicio 2, actualiza el valor correspondiente a una clave existente. Ejemplo:"
   ]
  },
  {
   "cell_type": "code",
   "execution_count": 7,
   "metadata": {},
   "outputs": [
    {
     "name": "stdout",
     "output_type": "stream",
     "text": [
      "Vemos el diccionario actualizado: {'Noelia': 17, 'Sara': 13, 'Valeria': 15, 'Tania': 14, 'Laura': 16, 'Irene': 18}\n"
     ]
    }
   ],
   "source": [
    "# Noelia acaba de cumplir 17 años y actualizamos su edad en el diccionario\n",
    "\n",
    "amigas[\"Noelia\"] = 17\n",
    "print(f\"Vemos el diccionario actualizado: {amigas}\")"
   ]
  },
  {
   "cell_type": "markdown",
   "metadata": {},
   "source": [
    "\n",
    "Eliminar un par clave-valor de un diccionario\n",
    "\n",
    "Descripción: Usando el diccionario creado en el ejercicio 2, elimina un par clave-valor específico que indique el usuario (debereis usar la función input() para preguntar al usuario)."
   ]
  },
  {
   "cell_type": "code",
   "execution_count": 8,
   "metadata": {},
   "outputs": [
    {
     "name": "stdout",
     "output_type": "stream",
     "text": [
      "Ahora que hemos eliminado Valeria nuestro diccionario queda así: {'Noelia': 17, 'Sara': 13, 'Tania': 14, 'Laura': 16, 'Irene': 18}\n"
     ]
    }
   ],
   "source": [
    "clave_usuario = input(\"Ingrese la clave del elemento a eliminar\")\n",
    "amigas.pop(clave_usuario)\n",
    "print(f\"Ahora que hemos eliminado {clave_usuario} nuestro diccionario queda así: {amigas}\")"
   ]
  },
  {
   "cell_type": "markdown",
   "metadata": {},
   "source": [
    "Verificar si una clave está presente en un diccionario\n",
    "\n",
    "Descripción: Usando el diccionario creado en el ejercicio 2, verifica si una clave específica está presente en él. La clave a buscar debe ser pasada por el usuario, debereis usar un input()."
   ]
  },
  {
   "cell_type": "code",
   "execution_count": 10,
   "metadata": {},
   "outputs": [
    {
     "name": "stdout",
     "output_type": "stream",
     "text": [
      "¿Está Noelia en mi diccionario de amigas? {True}\n"
     ]
    }
   ],
   "source": [
    "clave_usuario = input(\"Ingrese el nombre de la amiga que quiere buscar\")\n",
    "respuesta= {clave_usuario in amigas}\n",
    "print(f\"¿Está {clave_usuario} en mi diccionario de amigas? {respuesta}\") \n"
   ]
  },
  {
   "cell_type": "markdown",
   "metadata": {},
   "source": [
    "Obtener una lista de todas las claves de un diccionario\n",
    "\n",
    "Descripción: Usando el diccionario creado en el ejercicio 2, obtén una lista con todas las claves que contiene."
   ]
  },
  {
   "cell_type": "code",
   "execution_count": 11,
   "metadata": {},
   "outputs": [
    {
     "name": "stdout",
     "output_type": "stream",
     "text": [
      "La lista con las claves de mi diccionario es: ['Noelia', 'Sara', 'Tania', 'Laura', 'Irene']\n"
     ]
    }
   ],
   "source": [
    "lista_claves_amigas = list(amigas.keys())\n",
    "print(f\"La lista con las claves de mi diccionario es: {lista_claves_amigas}\")"
   ]
  },
  {
   "cell_type": "markdown",
   "metadata": {},
   "source": [
    "Obtener una lista de todos los valores de un diccionario\n",
    "\n",
    "Descripción: Usando el diccionario creado en el ejercicio 2, obtén una lista con todos los valores que contiene."
   ]
  },
  {
   "cell_type": "code",
   "execution_count": 12,
   "metadata": {},
   "outputs": [
    {
     "name": "stdout",
     "output_type": "stream",
     "text": [
      "La lista con los valores de mi diccionario es: [17, 13, 14, 16, 18]\n"
     ]
    }
   ],
   "source": [
    "lista_edades_amigas = list(amigas.values())\n",
    "print(f\"La lista con los valores de mi diccionario es: {lista_edades_amigas}\")"
   ]
  },
  {
   "cell_type": "markdown",
   "metadata": {},
   "source": [
    "Utilizar el método setdefault() para establecer un valor predeterminado si la clave no existe\n",
    "\n",
    "Descripción: Usando el diccionario creado en el ejercicio 2, obten el valor correspondiente a una clave. Si la clave no existe, establece un valor predeterminado y devuelve dicho valor."
   ]
  },
  {
   "cell_type": "code",
   "execution_count": 15,
   "metadata": {},
   "outputs": [
    {
     "name": "stdout",
     "output_type": "stream",
     "text": [
      "Buscamos en el diccionario una amiga que sabemos que no está: Bárbara\n",
      "Esa amiga no está en este diccionario\n"
     ]
    }
   ],
   "source": [
    "print(\"Buscamos en el diccionario una amiga que sabemos que no está: Bárbara\")\n",
    "\n",
    "resultado= amigas.setdefault(\"Barbara\", \"Esa amiga no está en este diccionario\")\n",
    "                  \n",
    "print(resultado)\n"
   ]
  },
  {
   "cell_type": "markdown",
   "metadata": {},
   "source": [
    "Manipulación de un diccionario utilizando pop() y popitem()\n",
    "\n",
    "Descripción: Usando el diccionario creado en el ejercicio 2, realiza operaciones de eliminación utilizando pop() y popitem(), y observa cómo afectan al diccionario."
   ]
  },
  {
   "cell_type": "code",
   "execution_count": 31,
   "metadata": {},
   "outputs": [
    {
     "name": "stdout",
     "output_type": "stream",
     "text": [
      "{'Noelia': 17, 'Sara': 13, 'Valeria': 15, 'Tania': 14, 'Laura': 16, 'Irene': 18}\n",
      "La edad de mis ex-amiga Tania es: 14\n",
      "Y también he eliminado a: ('Irene', 18)\n"
     ]
    }
   ],
   "source": [
    "# Laura me ha engañado con mi novio. Ya no somos amigas\n",
    "\n",
    "amigas = {'Noelia': 17, 'Sara': 13, 'Valeria': 15, 'Tania': 14, 'Laura': 16, 'Irene': 18}\n",
    "\n",
    "amigas2 = amigas.copy()\n",
    "\n",
    "print(amigas2)\n",
    "\n",
    "edad_de_la_amiga_eliminada1 = amigas2.pop(\"Tania\")\n",
    "\n",
    "# Estoy muy loca y voy a eliminar una amiga de mi agenda aleatorimente. ¿O será la última?\n",
    "\n",
    "par_de_amiga_eliminada2= amigas2.popitem()\n",
    "\n",
    "print(f\"La edad de mis ex-amiga Tania es: {edad_de_la_amiga_eliminada1}\")\n",
    "print(f\"Y también he eliminado a: {par_de_amiga_eliminada2}\")\n",
    "\n"
   ]
  },
  {
   "cell_type": "code",
   "execution_count": 32,
   "metadata": {},
   "outputs": [
    {
     "name": "stdout",
     "output_type": "stream",
     "text": [
      "La edad de mi ultima amiga eliminada es: ('Laura', 16)\n"
     ]
    }
   ],
   "source": [
    "edad_de_la_amiga_eliminada3= amigas2.popitem()\n",
    "\n",
    "print(f\"La edad de mi ultima amiga eliminada es: {edad_de_la_amiga_eliminada3}\")"
   ]
  },
  {
   "cell_type": "markdown",
   "metadata": {},
   "source": [
    "Ejercicios sets\n",
    "Crear un conjunto vacío"
   ]
  },
  {
   "cell_type": "code",
   "execution_count": 51,
   "metadata": {},
   "outputs": [
    {
     "name": "stdout",
     "output_type": "stream",
     "text": [
      "<class 'set'>\n",
      "<class 'dict'>\n"
     ]
    }
   ],
   "source": [
    "marcas = set()\n",
    "print(type(marcas))\n",
    "\n",
    "#Un set vacío no se puede declarar vacío con las llaves\n",
    "paises = {}\n",
    "print(type(paises))\n"
   ]
  },
  {
   "cell_type": "markdown",
   "metadata": {},
   "source": [
    "Crear un conjunto con elementos\n",
    "\n",
    "Descripción: Crea un conjunto con elementos predefinidos."
   ]
  },
  {
   "cell_type": "code",
   "execution_count": 52,
   "metadata": {},
   "outputs": [
    {
     "name": "stdout",
     "output_type": "stream",
     "text": [
      "<class 'set'>\n"
     ]
    }
   ],
   "source": [
    "paises = {\"Dinamarca\", \"Noruega\", \"Finlandia\"}\n",
    "print(type(paises))"
   ]
  },
  {
   "cell_type": "markdown",
   "metadata": {},
   "source": [
    "Agregar elementos a un conjunto\n",
    "\n",
    "Descripción: Usando el set creado en el ejercicio 2, agrega nuevos elementos. Debereis agregar por separado:\n",
    "\n",
    "Un elemento solo."
   ]
  },
  {
   "cell_type": "code",
   "execution_count": 53,
   "metadata": {},
   "outputs": [
    {
     "name": "stdout",
     "output_type": "stream",
     "text": [
      "Añadimos un nuevo pais a nuestro set, que queda así: {'Dinamarca', 'Finlandia', 'Noruega', 'Ucrania'}\n"
     ]
    }
   ],
   "source": [
    "paises.add(\"Ucrania\")\n",
    "print(\"Añadimos un nuevo pais a nuestro set, que queda así:\",paises)"
   ]
  },
  {
   "cell_type": "markdown",
   "metadata": {},
   "source": [
    "\n",
    "Un par de elementos a la vez."
   ]
  },
  {
   "cell_type": "code",
   "execution_count": 56,
   "metadata": {},
   "outputs": [
    {
     "name": "stdout",
     "output_type": "stream",
     "text": [
      "Tras agregar nuevos paises {'Dinamarca', 'Noruega', 'Bélgica', 'Australia', 'Finlandia', 'Ucrania'}\n"
     ]
    }
   ],
   "source": [
    "nuevos_paises = [\"Australia\", \"Bélgica\"]\n",
    "paises.update(nuevos_paises)\n",
    "print(\"Tras agregar nuevos paises\", paises)\n"
   ]
  },
  {
   "cell_type": "markdown",
   "metadata": {},
   "source": [
    "Eliminar un elemento de un conjunto\n",
    "\n",
    "Descripción: Usando el set creado en el ejercicio 2, elimina un elemento especificado por el usuario."
   ]
  },
  {
   "cell_type": "code",
   "execution_count": 68,
   "metadata": {},
   "outputs": [
    {
     "name": "stdout",
     "output_type": "stream",
     "text": [
      "{'Finlandia', 'Ucrania'}\n",
      "{'Ucrania'}\n"
     ]
    }
   ],
   "source": [
    "print(paises)\n",
    "pais_a_eliminar = input(\"Elige qué país sacamos de la lista\")\n",
    "pais_eliminado = paises.remove(pais_a_eliminar)\n",
    "print(paises)\n"
   ]
  },
  {
   "cell_type": "code",
   "execution_count": 69,
   "metadata": {},
   "outputs": [
    {
     "name": "stdout",
     "output_type": "stream",
     "text": [
      "{'Dinamarca', 'Finlandia', 'Noruega', 'Bélgica', 'Ucrania', 'Australia'}\n",
      "{'Dinamarca', 'Noruega', 'Bélgica', 'Ucrania', 'Australia'}\n"
     ]
    }
   ],
   "source": [
    "paises = {'Dinamarca', 'Noruega', 'Bélgica', 'Australia', 'Finlandia', 'Ucrania'}\n",
    "print(paises)\n",
    "pais_eliminado = paises.remove(\"Finlandia\")\n",
    "print(paises)"
   ]
  },
  {
   "cell_type": "markdown",
   "metadata": {},
   "source": [
    "Verificar la pertenencia de un elemento en un conjunto\n",
    "\n",
    "Descripción: Usando el set creado en el ejercicio 2, verifica si un elemento específico está presente en él."
   ]
  },
  {
   "cell_type": "code",
   "execution_count": 72,
   "metadata": {},
   "outputs": [
    {
     "name": "stdout",
     "output_type": "stream",
     "text": [
      "{'Dinamarca', 'Noruega', 'Bélgica', 'Ucrania', 'Australia'}\n",
      "¿Esta Noruega en nuestra lista de paises? True\n",
      "¿Esta Perú en nuestra lista de paises? False\n"
     ]
    }
   ],
   "source": [
    "print(paises)\n",
    "print(\"¿Esta Noruega en nuestra lista de paises?\", \"Noruega\" in paises)\n",
    "print(\"¿Esta Perú en nuestra lista de paises?\", \"Perú\" in paises)\n"
   ]
  },
  {
   "cell_type": "markdown",
   "metadata": {},
   "source": [
    "Realizar una unión de conjuntos\n",
    "\n",
    "Descripción: Dados dos conjuntos, realiza una unión de ellos."
   ]
  },
  {
   "cell_type": "code",
   "execution_count": 73,
   "metadata": {},
   "outputs": [
    {
     "name": "stdout",
     "output_type": "stream",
     "text": [
      "El nuevo set de países queda así: {'Dinamarca', 'Noruega', 'Bélgica', 'Ucrania', 'Marruecos', 'Australia', 'Egipto'}\n"
     ]
    }
   ],
   "source": [
    "paises_europa = {'Dinamarca', 'Noruega', 'Bélgica', 'Ucrania', 'Australia'}\n",
    "\n",
    "paises_africa = {\"Marruecos\", \"Egipto\"}\n",
    "\n",
    "paises_unidos = paises_africa.union(paises_europa)\n",
    "\n",
    "print(\"El nuevo set de países queda así:\", paises_unidos)\n"
   ]
  },
  {
   "cell_type": "markdown",
   "metadata": {},
   "source": [
    "Realizar una intersección de conjuntos\n",
    "\n",
    "Descripción: Usando dos conjuntos de datos definidos en el ejercicio anterior, realiza una intersección de ellos."
   ]
  },
  {
   "cell_type": "code",
   "execution_count": 74,
   "metadata": {},
   "outputs": [
    {
     "name": "stdout",
     "output_type": "stream",
     "text": [
      "Los productos que compré en julio y en agosto son: {'gafas de sol', 'crema'}\n"
     ]
    }
   ],
   "source": [
    "compras_julio = {'toalla', 'crema', 'gafas de sol'}\n",
    "compras_agosto = {'tomates', 'lechuga', 'crema', 'agua mineral', 'gafas de sol'}\n",
    "interseccion_verano = compras_julio.intersection(compras_agosto)\n",
    "print(\"Los productos que compré en julio y en agosto son:\", interseccion_verano)"
   ]
  },
  {
   "cell_type": "markdown",
   "metadata": {},
   "source": [
    "Realizar una diferencia de conjuntos\n",
    "\n",
    "Descripción: Usando dos conjuntos de datos definidos en el ejercicio anterior, realiza una diferencia entre ellos.\n"
   ]
  },
  {
   "cell_type": "code",
   "execution_count": 75,
   "metadata": {},
   "outputs": [
    {
     "name": "stdout",
     "output_type": "stream",
     "text": [
      "Los productos que compré en julio sin los que compré en agosto son: {'toalla'}\n",
      "Los productos que compré en agosto menos los que compré en agosto: {'tomates', 'agua mineral', 'lechuga'}\n"
     ]
    }
   ],
   "source": [
    "compras_julio = {'toalla', 'crema', 'gafas de sol'}\n",
    "compras_agosto = {'tomates', 'lechuga', 'crema', 'agua mineral', 'gafas de sol'}\n",
    "interseccion_verano = compras_julio.difference(compras_agosto)\n",
    "\n",
    "print(\"Los productos que compré en julio sin los que compré en agosto son:\", interseccion_verano)\n",
    "\n",
    "\n",
    "compras_julio = {'toalla', 'crema', 'gafas de sol'}\n",
    "compras_agosto = {'tomates', 'lechuga', 'crema', 'agua mineral', 'gafas de sol'}\n",
    "interseccion_verano = compras_agosto.difference(compras_julio)\n",
    "\n",
    "print(\"Los productos que compré en agosto menos los que compré en agosto:\", interseccion_verano)"
   ]
  },
  {
   "cell_type": "markdown",
   "metadata": {},
   "source": [
    "Verificar si un conjunto es subconjunto de otro. Dados dos conjuntos, verifica si uno es subconjunto del otro."
   ]
  },
  {
   "cell_type": "code",
   "execution_count": 78,
   "metadata": {},
   "outputs": [
    {
     "name": "stdout",
     "output_type": "stream",
     "text": [
      "¿Es pajaros un subset de animales? True\n",
      "¿Es animales un subset de pajaros? False\n",
      "¿Es pajaros un superset de animales? False\n",
      "¿Es animales un superset de pajaros? True\n"
     ]
    }
   ],
   "source": [
    "pajaros = {'loro', 'periquito', 'gorrion'}\n",
    "animales = {'perro', 'gato', 'loro', 'periquito', 'gorrion'}\n",
    "\n",
    "print(\"¿Es pajaros un subset de animales?\", pajaros.issubset(animales))\n",
    "\n",
    "print(\"¿Es animales un subset de pajaros?\", animales.issubset(pajaros))\n",
    "\n",
    "print(\"¿Es pajaros un superset de animales?\", pajaros.issuperset(animales))\n",
    "\n",
    "print(\"¿Es animales un superset de pajaros?\", animales.issuperset(pajaros))\n"
   ]
  },
  {
   "cell_type": "markdown",
   "metadata": {},
   "source": []
  },
  {
   "cell_type": "code",
   "execution_count": null,
   "metadata": {},
   "outputs": [],
   "source": []
  }
 ],
 "metadata": {
  "kernelspec": {
   "display_name": "base",
   "language": "python",
   "name": "python3"
  },
  "language_info": {
   "codemirror_mode": {
    "name": "ipython",
    "version": 3
   },
   "file_extension": ".py",
   "mimetype": "text/x-python",
   "name": "python",
   "nbconvert_exporter": "python",
   "pygments_lexer": "ipython3",
   "version": "3.12.4"
  }
 },
 "nbformat": 4,
 "nbformat_minor": 2
}
