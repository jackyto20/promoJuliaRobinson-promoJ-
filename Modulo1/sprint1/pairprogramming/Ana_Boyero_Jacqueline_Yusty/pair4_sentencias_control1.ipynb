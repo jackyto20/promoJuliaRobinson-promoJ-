{
 "cells": [
  {
   "cell_type": "markdown",
   "metadata": {},
   "source": [
    "Descripción: Dado un número, verifica si es positivo, negativo o cero."
   ]
  },
  {
   "cell_type": "code",
   "execution_count": null,
   "metadata": {},
   "outputs": [],
   "source": [
    "numero = int(input(\"Por favor ingresa:\"))\n",
    "\n",
    "if numero < 0 :\n",
    "\n",
    "    print(numero, \"es un numero negativo\")\n",
    "\n",
    "elif numero > 0 :\n",
    "     print(numero, \"es un numero positivo\")\n",
    "\n",
    "\n",
    "else :\n",
    "     \n",
    "     print(numero, \" es cero\")"
   ]
  },
  {
   "cell_type": "markdown",
   "metadata": {},
   "source": [
    "Descripción: Dado un número, verifica si es par o impar."
   ]
  },
  {
   "cell_type": "code",
   "execution_count": null,
   "metadata": {},
   "outputs": [],
   "source": [
    "cifra = 5\n",
    "\n",
    "if cifra %2 == 0 :\n",
    "\n",
    "    print(\"Es numero par\")\n",
    "\n",
    "else :\n",
    "    print(\"Es numero impar\")"
   ]
  },
  {
   "cell_type": "markdown",
   "metadata": {},
   "source": [
    "Dada la calificación de un estudiante en un examen, verifica si aprobó o suspendió (si la calificación es mayor o igual a 60 se considera aprobado"
   ]
  },
  {
   "cell_type": "code",
   "execution_count": null,
   "metadata": {},
   "outputs": [],
   "source": [
    "calificacion = 20\n",
    "\n",
    "if calificacion >= 60: \n",
    "\n",
    "    print(\"LEstudiante ha aprobado\")\n",
    "\n",
    "else : \n",
    "\n",
    "    print(\"Estudiante no ha aprobado\")"
   ]
  },
  {
   "cell_type": "markdown",
   "metadata": {},
   "source": [
    "Dados dos números, encuentra el máximo entre ellos."
   ]
  },
  {
   "cell_type": "code",
   "execution_count": 13,
   "metadata": {},
   "outputs": [
    {
     "name": "stdout",
     "output_type": "stream",
     "text": [
      "El numero mayor es 60\n",
      "60 es el numero mayor\n",
      "20 es el numero menor\n",
      " El numero 60 es mayor\n"
     ]
    }
   ],
   "source": [
    "\n",
    "\n",
    "numero1 = 20\n",
    "numero2 = 60\n",
    "\n",
    "\n",
    "\n",
    "lista_numeros = [numero1, numero2]\n",
    "\n",
    "max_lista =max(lista_numeros)\n",
    "\n",
    "print(\"El numero mayor es\", max_lista)\n",
    "\n",
    "num_mayor = max(numero1, numero2)\n",
    "num_menor = min(numero2, numero1)\n",
    "\n",
    "print(num_mayor, \"es el numero mayor\")\n",
    "print(num_menor, \"es el numero menor\")\n",
    "\n",
    "\n",
    "#USANDO SENTENCIA IF\n",
    "\n",
    "if numero1 < num_mayor :\n",
    "    print(\" El numero\", numero2, \"es mayor\")\n",
    "\n",
    "else :\n",
    "\n",
    "    print(\"El numero\", numero1, \"es mayor\")\n",
    "\n",
    "\n",
    "\n",
    "\n",
    "\n"
   ]
  },
  {
   "cell_type": "markdown",
   "metadata": {},
   "source": [
    "Dada una letra, verifica si es una vocal o una consonante."
   ]
  },
  {
   "cell_type": "code",
   "execution_count": null,
   "metadata": {},
   "outputs": [],
   "source": [
    "letra = 'a'\n",
    "\n",
    "if letra == \"a\" or letra == \"e\" or letra == \"i\" or letra ==\"o\" or letra == \"u\" :\n",
    "    print(\"Es una vocal\")\n",
    "\n",
    "else :\n",
    "\n",
    "    print(\"Es una consonante\")"
   ]
  },
  {
   "cell_type": "markdown",
   "metadata": {},
   "source": [
    " Dado el monto total de una compra, calcula el descuento aplicado según las siguientes condiciones: si el monto es mayor o igual a $100, aplica un descuento del 10%; de lo contrario, no aplica ningún descuento."
   ]
  },
  {
   "cell_type": "code",
   "execution_count": null,
   "metadata": {},
   "outputs": [],
   "source": [
    "compra = 150\n",
    "\n",
    "if compra >= 100 :\n",
    "\n",
    "    total_descuento = compra * 0.10\n",
    "    total_compra = compra - total_descuento\n",
    "    print(f\"El total a pagar con el descuento aplicado es {total_compra}\")\n",
    "\n",
    "else :\n",
    "    print(\"El total a pagar es\", compra)\n",
    "\n",
    "\n",
    "\n",
    "\n",
    "\n"
   ]
  },
  {
   "cell_type": "markdown",
   "metadata": {},
   "source": [
    "Dado un año, verifica si es bisiesto o no (un año es bisiesto si es divisible entre 4, excepto aquellos divisibles entre 100 pero no entre 400).\n"
   ]
  },
  {
   "cell_type": "code",
   "execution_count": null,
   "metadata": {},
   "outputs": [],
   "source": [
    "year = 1900\n",
    "\n",
    "\n",
    "if year %4 == 0 :   \n",
    "\n",
    "    if year %100 == 0  and year %400 != 0 :\n",
    "\n",
    "        print(\"Año no es bisiesto\")\n",
    "\n",
    "    else :\n",
    "\n",
    "        print(\"Año bisiesto\")\n",
    "    \n",
    "else :\n",
    "    print(\"Año no bisiesto\")\n",
    "\n",
    "\n",
    "\n",
    "\n",
    "    \n",
    "\n"
   ]
  },
  {
   "cell_type": "markdown",
   "metadata": {},
   "source": [
    "Dada una edad, asigna una categoría según las siguientes condiciones: si la edad es menor de 18, la categoría es \"Menor de edad\"; si la edad está entre 18 y 64 (incluyendo ambos), la categoría es \"Adulto\"; de lo contrario, la categoría es \"Adulto mayor\"."
   ]
  },
  {
   "cell_type": "code",
   "execution_count": null,
   "metadata": {},
   "outputs": [],
   "source": [
    "edad = 65\n",
    "\n",
    "if edad < 18 :\n",
    "    print(\"Categoria Menor de edad\")\n",
    "\n",
    "elif edad >= 18 and edad <=64 :\n",
    "    print(\"Categoria Adulto\")\n",
    "\n",
    "else: \n",
    "    print(\"Adulto Mayor\")\n",
    "\n"
   ]
  },
  {
   "cell_type": "markdown",
   "metadata": {},
   "source": [
    "Dados tres números, verifica si forman un triángulo rectángulo (si se cumple el teorema de Pitágoras)."
   ]
  },
  {
   "cell_type": "code",
   "execution_count": 22,
   "metadata": {},
   "outputs": [
    {
     "name": "stdout",
     "output_type": "stream",
     "text": [
      "Se cumple el Teorema de pitacoras y es un triangulo rectanculo\n"
     ]
    }
   ],
   "source": [
    "lado1 = 3\n",
    "lado2 = 4\n",
    "hipotenusa = 5\n",
    "\n",
    "if hipotenusa**2 == (lado1**2 + lado2** 2) :\n",
    "\n",
    "    print(\"Se cumple el Teorema de pitacoras y es un triangulo rectanculo\")\n",
    "\n",
    "else :\n",
    "\n",
    "    print(\"No es un triangulo rectangulo\")\n",
    "\n",
    "\n",
    "\n"
   ]
  },
  {
   "cell_type": "markdown",
   "metadata": {},
   "source": [
    "Dada una puntuación, asigna una calificación según las siguientes condiciones: si la puntuación es mayor o igual a 90, la calificación es \"A\"; si es mayor o igual a 80, la calificación es \"B\"; si es mayor o igual a 70, la calificación es \"C\"; si es mayor o igual a 60, la calificación es \"D\"; de lo contrario, la calificación es \"F\".\n"
   ]
  },
  {
   "cell_type": "code",
   "execution_count": null,
   "metadata": {},
   "outputs": [],
   "source": [
    "puntuacion = 60 \n",
    "\n",
    "if puntuacion >= 90 :\n",
    "    print(\"La calificacion es A\")\n",
    "\n",
    "elif puntuacion >= 80 :\n",
    "    print(\"La calificacion es B\")\n",
    "\n",
    "elif puntuacion >=70 :\n",
    "    print(\"La calificacion es C\")\n",
    "\n",
    "elif puntuacion >=60 :\n",
    "    print(\"La calificacion es D\")\n",
    "\n",
    "else :\n",
    "    print(\"La calificacion es F\")"
   ]
  },
  {
   "cell_type": "markdown",
   "metadata": {},
   "source": [
    "Dados el peso (en kg) y la altura (en metros) de una persona, calcula su IMC y categorízalo según las siguientes condiciones: si el IMC es menor a 18.5, es \"Bajo peso\"; si está entre 18.5 y 24.9 (inclusive), es \"Peso normal\"; si está entre 25 y 29.9 (inclusive), es \"Sobrepeso\"; de lo contrario, es \"Obesidad\""
   ]
  },
  {
   "cell_type": "code",
   "execution_count": null,
   "metadata": {},
   "outputs": [],
   "source": [
    "peso = int(80)\n",
    "altura = float(1.60)\n",
    "\n",
    "imc = peso/(altura**2)\n",
    "\n",
    "if imc < 18.5 :\n",
    "    print(\"El  IMC del paciente es\", imc,\"Paciente esta bajo de peso\") \n",
    "\n",
    "elif imc >= 18.5 and imc <= 24.9 :\n",
    "        print(\"El  IMC del paciente es\", imc,\"Paciente tiene peso normal\")\n",
    "\n",
    "elif imc >= 25 and imc <= 29.9 :\n",
    "        print(\"El  IMC del paciente es\", imc, \".Paciente tiene sobrepeso\")\n",
    "\n",
    "else :\n",
    "    print(\"El IMC del paciente es\", imc, \"Paciente tiene obesidad\")"
   ]
  },
  {
   "cell_type": "markdown",
   "metadata": {},
   "source": [
    "Calcular el mayor de tres números (REVISAR)"
   ]
  },
  {
   "cell_type": "code",
   "execution_count": 10,
   "metadata": {},
   "outputs": [
    {
     "name": "stdout",
     "output_type": "stream",
     "text": [
      "60 Es el numero mayor\n"
     ]
    }
   ],
   "source": [
    "dato1 = 25\n",
    "dato2 = 32\n",
    "dato3 = 60\n",
    "\n",
    "mayor =max(dato1,dato2, dato3)\n",
    "\n",
    "if dato1 == mayor :\n",
    "    print(dato1, \"es el numero mayor\")\n",
    "\n",
    "elif dato2 == mayor :\n",
    "    print(dato2, \"Es el numero mayor\")\n",
    "\n",
    "elif dato3 == mayor :\n",
    "    print(dato3, \"Es el numero mayor\")\n"
   ]
  },
  {
   "cell_type": "markdown",
   "metadata": {},
   "source": [
    "BONUS sentencias de control: Verificar la validez de una fecha. Dados el día, el mes y el año de una fecha, verifica si la fecha es válida."
   ]
  },
  {
   "cell_type": "code",
   "execution_count": null,
   "metadata": {},
   "outputs": [],
   "source": [
    "def es_fecha_valida(dia, mes, anio):\n",
    "    if mes >= 1 and mes <=12:\n",
    "        return True\n",
    "    if mes in [1, 3, 5, 7, 8, 10, 12]:\n",
    "        dias_mes = 31\n",
    "    \n",
    "    elif mes in [4, 6, 9, 11]:\n",
    "        dias_mes = 30\n",
    "\n",
    "    elif mes == 2:\n",
    "        dia_mes = 28\n",
    "\n",
    "    if (anio % 4 == 0 and anio % 100 != 0) or (anio % 400 == 0):\n",
    "            dias_mes = 29\n",
    "    else:\n",
    "            dias_mes = 28 \n",
    "\n"
   ]
  },
  {
   "cell_type": "markdown",
   "metadata": {},
   "source": [
    "       Ejercicios while\n",
    "Calcular la suma de los primeros 10 números naturales utilizando un bucle while\n",
    "\n",
    "Descripción: Utiliza un bucle while para calcular la suma de los primeros 10 números naturales (1 + 2 + 3 + ... + 10).\n"
   ]
  },
  {
   "cell_type": "code",
   "execution_count": 4,
   "metadata": {},
   "outputs": [
    {
     "name": "stdout",
     "output_type": "stream",
     "text": [
      "El resultado de la suma de los primeros 10 numeros naturales es 55\n"
     ]
    }
   ],
   "source": [
    "#Definir esta variable para sumar\n",
    "suma= 0\n",
    "\n",
    "num_natural = 1\n",
    "\n",
    "while num_natural <= 10 :\n",
    "        suma += num_natural\n",
    "        num_natural +=1\n",
    "\n",
    "print(f\"El resultado de la suma de los primeros 10 numeros naturales es {suma}\")"
   ]
  },
  {
   "cell_type": "markdown",
   "metadata": {},
   "source": [
    "     \n",
    "Juego de adivinanza utilizando un bucle while\n",
    "\n",
    "Descripción: Crea un juego de adivinanza en el que el jugador tiene que adivinar un número secreto (tendrá que ser entre el 0 y el 10). Utiliza un bucle while para permitir múltiples intentos hasta que el jugador adivine correctamente."
   ]
  },
  {
   "cell_type": "code",
   "execution_count": 1,
   "metadata": {},
   "outputs": [
    {
     "name": "stdout",
     "output_type": "stream",
     "text": [
      "Es incorrecto\n",
      "Es correcto\n"
     ]
    }
   ],
   "source": [
    "\n",
    "\n",
    "num_secreto = 8\n",
    "\n",
    "intentos = 1\n",
    "\n",
    "\n",
    "while intentos <= 3:\n",
    "\n",
    "    intentos += 1  \n",
    "\n",
    "    num_usuario =int(input(\"Adivina el numero secreto, por favor escribe el numero que crees que es\"))\n",
    "\n",
    "    if num_usuario >= 0 and num_usuario <= 10 :\n",
    "        \n",
    "        if num_usuario != 8 :\n",
    "            print(\"Es incorrecto\") \n",
    "        \n",
    "               \n",
    "        else :\n",
    "            print(\"Es correcto\")\n",
    "\n",
    "            break\n",
    "\n",
    "    else :\n",
    "        print(\"Error de datos\")\n",
    "        break \n",
    "\n",
    "else :\n",
    "    print(\"Ha superado el numero de opciones\") \n",
    "        \n",
    "    \n",
    "\n",
    "\n",
    "\n"
   ]
  }
 ],
 "metadata": {
  "kernelspec": {
   "display_name": "base",
   "language": "python",
   "name": "python3"
  },
  "language_info": {
   "codemirror_mode": {
    "name": "ipython",
    "version": 3
   },
   "file_extension": ".py",
   "mimetype": "text/x-python",
   "name": "python",
   "nbconvert_exporter": "python",
   "pygments_lexer": "ipython3",
   "version": "3.12.4"
  }
 },
 "nbformat": 4,
 "nbformat_minor": 2
}
