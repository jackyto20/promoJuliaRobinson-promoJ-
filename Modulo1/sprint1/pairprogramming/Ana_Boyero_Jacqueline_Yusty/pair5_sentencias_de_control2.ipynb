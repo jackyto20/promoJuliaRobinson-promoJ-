{
 "cells": [
  {
   "cell_type": "markdown",
   "metadata": {},
   "source": [
    "Descripción: Dado un número, verifica si es positivo, negativo o cero."
   ]
  },
  {
   "cell_type": "code",
   "execution_count": 3,
   "metadata": {},
   "outputs": [],
   "source": [
    "a = 10\n",
    "b = 20\n",
    "c= 30"
   ]
  },
  {
   "cell_type": "markdown",
   "metadata": {},
   "source": [
    "Descripción: Dado un número, verifica si es par o impar."
   ]
  },
  {
   "cell_type": "code",
   "execution_count": 6,
   "metadata": {},
   "outputs": [
    {
     "name": "stdout",
     "output_type": "stream",
     "text": [
      "Es numero impar\n"
     ]
    }
   ],
   "source": [
    "numero = int(input(\"Itroduzca un número\"))\n",
    "\n",
    "if numero %2 == 0 :\n",
    "    print(\"Es numero par\")\n",
    "\n",
    "else:\n",
    "    print(\"Es numero impar\")"
   ]
  },
  {
   "cell_type": "markdown",
   "metadata": {},
   "source": [
    "Dada la calificación de un estudiante en un examen, verifica si aprobó o suspendió (si la calificación es mayor o igual a 60 se considera aprobado)"
   ]
  },
  {
   "cell_type": "code",
   "execution_count": 9,
   "metadata": {},
   "outputs": [
    {
     "name": "stdout",
     "output_type": "stream",
     "text": [
      "El estudiante ha suspendido\n"
     ]
    }
   ],
   "source": [
    "calificacion = int(input(\"Introduzca la calificación del estudiante\"))\n",
    "\n",
    "if calificacion >= 60: \n",
    "\n",
    "    print(\"El estudiante ha aprobado\")\n",
    "\n",
    "else : \n",
    "\n",
    "    print(\"El estudiante ha suspendido\")"
   ]
  },
  {
   "cell_type": "markdown",
   "metadata": {},
   "source": [
    "Dados dos números, encuentra el máximo entre ellos."
   ]
  },
  {
   "cell_type": "code",
   "execution_count": 10,
   "metadata": {},
   "outputs": [
    {
     "name": "stdout",
     "output_type": "stream",
     "text": [
      "El máximo es 60\n"
     ]
    }
   ],
   "source": [
    "numero1 = 20\n",
    "numero2 = 60\n",
    "\n",
    "if numero1 > numero2:\n",
    "    print(f\"El máximo es {numero1}\")\n",
    "elif numero1 < numero2:\n",
    "    print(f\"El máximo es {numero2}\")\n",
    "else: \n",
    "    print(\"Los dos números son iguales\")"
   ]
  },
  {
   "cell_type": "markdown",
   "metadata": {},
   "source": [
    "Dada una letra, verifica si es una vocal o una consonante."
   ]
  },
  {
   "cell_type": "code",
   "execution_count": 12,
   "metadata": {},
   "outputs": [
    {
     "name": "stdout",
     "output_type": "stream",
     "text": [
      "e es una vocal\n"
     ]
    }
   ],
   "source": [
    "letra = input(\"Introduzca una letra\")\n",
    "\n",
    "if letra == \"a\" or letra == \"e\" or letra == \"i\" or letra ==\"o\" or letra == \"u\" :\n",
    "    print(f\"{letra} es una vocal\")\n",
    "\n",
    "else :\n",
    "\n",
    "    print(f\"{letra} es una consonante\")"
   ]
  },
  {
   "cell_type": "markdown",
   "metadata": {},
   "source": [
    " Dado el monto total de una compra, calcula el descuento aplicado según las siguientes condiciones: si el monto es mayor o igual a $100, aplica un descuento del 10%; de lo contrario, no aplica ningún descuento."
   ]
  },
  {
   "cell_type": "code",
   "execution_count": 19,
   "metadata": {},
   "outputs": [
    {
     "name": "stdout",
     "output_type": "stream",
     "text": [
      "Le aplicamos un descuento del 10%\n",
      "El total a pagar es 135.0\n"
     ]
    }
   ],
   "source": [
    "compra = int(input(\"Introduce el monto de tu compra y veamos si tienes descuento\"))\n",
    "\n",
    "if compra >= 100 :\n",
    "    descuento = compra * 0.10\n",
    "    compra = compra - descuento\n",
    "    print(f\"Le aplicamos un descuento del 10%\")\n",
    "print(\"El total a pagar es\", compra)\n"
   ]
  },
  {
   "cell_type": "markdown",
   "metadata": {},
   "source": [
    "Dado un año, verifica si es bisiesto o no (un año es bisiesto si es divisible entre 4, excepto aquellos divisibles entre 100 pero no entre 400)."
   ]
  },
  {
   "cell_type": "code",
   "execution_count": 23,
   "metadata": {},
   "outputs": [
    {
     "name": "stdout",
     "output_type": "stream",
     "text": [
      " 1984 es bisiesto\n"
     ]
    }
   ],
   "source": [
    "year = int(input(\"Introduce un año y te decimos si es bisiesto\"))\n",
    "\n",
    "if year %4 == 0 :   \n",
    "    if year %100 == 0  and year %400 != 0 :\n",
    "        print(f\"{year} no es bisiesto\")\n",
    "\n",
    "    else :\n",
    "        print(f\" {year} es bisiesto\")\n",
    "else :\n",
    "    print(f\"{year} no es bisiesto\")"
   ]
  },
  {
   "cell_type": "markdown",
   "metadata": {},
   "source": [
    "Dada una edad, asigna una categoría según las siguientes condiciones: si la edad es menor de 18, la categoría es \"Menor de edad\"; si la edad está entre 18 y 64 (incluyendo ambos), la categoría es \"Adulto\"; de lo contrario, la categoría es \"Adulto mayor\"."
   ]
  },
  {
   "cell_type": "code",
   "execution_count": 30,
   "metadata": {},
   "outputs": [
    {
     "name": "stdout",
     "output_type": "stream",
     "text": [
      "Con 90 años, usted es: Adulto mayor\n"
     ]
    }
   ],
   "source": [
    "edad = int(input(\"Introduzca su edad\")) \n",
    "\n",
    "if edad <18 :\n",
    "    categoria = \"Menor de edad\"\n",
    "\n",
    "elif edad >= 18 and edad <=64 :\n",
    "    categoria = \"Adulto\"\n",
    "\n",
    "else: \n",
    "    categoria = \"Adulto mayor\"\n",
    "\n",
    "print(f\"Con {edad} años, usted es: {categoria}\")"
   ]
  },
  {
   "cell_type": "markdown",
   "metadata": {},
   "source": [
    "Verificar si tres números forman un triángulo rectángulo\n",
    "\n",
    "Descripción: Dados tres números, verifica si forman un triángulo rectángulo (si se cumple el teorema de Pitágoras)."
   ]
  },
  {
   "cell_type": "code",
   "execution_count": 16,
   "metadata": {},
   "outputs": [
    {
     "name": "stdout",
     "output_type": "stream",
     "text": [
      "Comprobamos si 10**2 = 7**2 + 4**2\n",
      "El triángulo no es rectángulo\n"
     ]
    }
   ],
   "source": [
    "# El teorema de Pitágoras es: h**2 = a**2 + b**2\n",
    "# Triángulos rectángulos con lados enteros: (3, 4, 5), (5, 12, 13) y (7, 24, 25)\n",
    "\n",
    "\n",
    "a = int(input(\"introduce el primer lado\"))\n",
    "b = int(input(\"Introduce el segundo lado\"))\n",
    "c = int(input(\"Introduce el tercer lado\"))\n",
    "\n",
    "maximo= max(a, b, c)\n",
    "\n",
    "if maximo==a:\n",
    "    print(f\"Comprobamos si {a}**2 = {b}**2 + {c}**2\")\n",
    "    hipotenusa_al_cuadrado = a**2\n",
    "    lados_al_cuadrado = b**2 + c**2\n",
    "    if a**2 == b**2 + c**2:\n",
    "        print(\"El triángulo es rectángulo\")\n",
    "    else: \n",
    "        print(\"El triángulo no es rectángulo\")\n",
    "\n",
    "elif maximo==b:\n",
    "     print(f\"Comprobamos si {b}**2 = {a}**2 + {c}**2\")\n",
    "     hipotenusa_al_cuadrado = b**2\n",
    "     lados_al_cuadrado = a**2 + c**2\n",
    "     if b**2 == a**2 + c**2:\n",
    "         print(\"El triángulo es rectángulo\")\n",
    "     else: \n",
    "      print(\"El triángulo no es rectángulo\")\n",
    "\n",
    "else:    \n",
    "    print(f\"Comprobamos si {c}**2 = {b}**2 + {a}**2\")\n",
    "    hipotenusa_al_cuadrado = c**2\n",
    "    lados_al_cuadrado = a**2 + b**2\n",
    "    if c**2 == a**2 + b**2:\n",
    "        print(\"El triángulo es rectángulo\")\n",
    "    else: \n",
    "        print(\"El triángulo no es rectángulo\")\n"
   ]
  },
  {
   "cell_type": "markdown",
   "metadata": {},
   "source": [
    "Asignar una calificación a una puntuación\n",
    "\n",
    "Descripción: Dada una puntuación, asigna una calificación según las siguientes condiciones: si la puntuación es mayor o igual a 90, la calificación es \"A\"; si es mayor o igual a 80, la calificación es \"B\"; si es mayor o igual a 70, la calificación es \"C\"; si es mayor o igual a 60, la calificación es \"D\"; de lo contrario, la calificación es \"F\"."
   ]
  },
  {
   "cell_type": "code",
   "execution_count": 25,
   "metadata": {},
   "outputs": [
    {
     "name": "stdout",
     "output_type": "stream",
     "text": [
      "Con una puntuación de 74, tu calificación es C\n"
     ]
    }
   ],
   "source": [
    "puntuacion = int(input(\"Introduzca su puntuacion\"))\n",
    "\n",
    "if puntuacion >= 90:\n",
    "    calificacion = 'A'\n",
    "elif puntuacion >= 80:\n",
    "    calificacion = 'B'\n",
    "elif puntuacion >= 70:\n",
    "    calificacion = 'C'\n",
    "elif puntuacion >= 60:\n",
    "    calificacion = 'D'\n",
    "else:\n",
    "    calificacion = 'F'\n",
    "\n",
    "print(f\"Con una puntuación de {puntuacion}, tu calificación es {calificacion}\")"
   ]
  },
  {
   "cell_type": "markdown",
   "metadata": {},
   "source": [
    "Calcular el índice de masa corporal (IMC) y categorizarlo\n",
    "\n",
    "Descripción: Dados el peso (en kg) y la altura (en metros) de una persona, calcula su IMC y categorízalo según las siguientes condiciones: si el IMC es menor a 18.5, es \"Bajo peso\"; si está entre 18.5 y 24.9 (inclusive), es \"Peso normal\"; si está entre 25 y 29.9 (inclusive), es \"Sobrepeso\"; de lo contrario, es \"Obesidad\"."
   ]
  },
  {
   "cell_type": "code",
   "execution_count": 30,
   "metadata": {},
   "outputs": [
    {
     "name": "stdout",
     "output_type": "stream",
     "text": [
      "18\n"
     ]
    }
   ],
   "source": [
    "kilos = int(18.5)\n",
    "print(kilos)"
   ]
  },
  {
   "cell_type": "code",
   "execution_count": 39,
   "metadata": {},
   "outputs": [
    {
     "name": "stdout",
     "output_type": "stream",
     "text": [
      "Con un peso de 90 kg y una altura de 1.5 metros, tu IMC es 40.0, que equivale a Obesidad\n"
     ]
    }
   ],
   "source": [
    "\n",
    "peso = int(input(\"Introduzca su peso en kilos\"))\n",
    "altura = float(input(\"Introduzca su altura en metros\"))\n",
    "\n",
    "# La fórmula para el IMC es el peso en kilogramos dividido por la estatura en metros cuadrados.\n",
    "\n",
    "IMC = peso/altura**2\n",
    "IMC = round(IMC, 2) #Redondeo a dos decimales\n",
    "\n",
    "if IMC < 18.5:\n",
    "    categoria = \"Bajo peso\"\n",
    "\n",
    "elif IMC <= 24.9:\n",
    "    categoria = \"Peso normal\"\n",
    "\n",
    "elif IMC <= 29.9:\n",
    "    categoria = \"Sobrepeso\"\n",
    "\n",
    "else: \n",
    "    categoria = \"Obesidad\"\n",
    "\n",
    "print(f\"Con un peso de {peso} kg y una altura de {altura} metros, tu IMC es {IMC}, que equivale a {categoria}\")\n",
    "\n"
   ]
  },
  {
   "cell_type": "markdown",
   "metadata": {},
   "source": [
    "Calcular el mayor de tres números\n",
    "\n",
    "Descripción: Dados tres números, encuentra el mayor entre ellos."
   ]
  },
  {
   "cell_type": "code",
   "execution_count": 40,
   "metadata": {},
   "outputs": [
    {
     "name": "stdout",
     "output_type": "stream",
     "text": [
      "El múmero mayor de 2, 5 y 1 es 5\n"
     ]
    }
   ],
   "source": [
    "a, b, c = 2, 5, 1\n",
    "maximo = max (a, b, c)\n",
    "print(f\"El múmero mayor de {a}, {b} y {c} es {maximo}\")"
   ]
  },
  {
   "cell_type": "markdown",
   "metadata": {},
   "source": [
    "BONUS sentencias de control: Verificar la validez de una fecha\n",
    "\n",
    "Descripción: Dados el día, el mes y el año de una fecha, verifica si la fecha es válida."
   ]
  },
  {
   "cell_type": "code",
   "execution_count": 54,
   "metadata": {},
   "outputs": [
    {
     "name": "stdout",
     "output_type": "stream",
     "text": [
      "Vamos a validar su fecha\n",
      "¡La fecha introducida es válida!\n"
     ]
    }
   ],
   "source": [
    "# Verificaciones de fecha:\n",
    "\"\"\" \n",
    "- ¿El mes está entre 1 y 12?\n",
    "\n",
    "- ¿El día está entre 1 y 30 si es: abril, junio, septiembre, noviembre?\n",
    "\n",
    "- ¿El día está entre 1 y 31 si es enero, marzo, mayo, julio, agosto, octubre, diciembre?\n",
    "\n",
    "- ¿El día está entre 1 y 28 si es febrero? ¿O 1 y 29 si es febrero y es bisiesto?\n",
    "\n",
    "\"\"\"\n",
    "print(\"Vamos a validar su fecha\")\n",
    "dia = int(input(\"Introduzca el día\"))\n",
    "mes = input(\"Introduzca el nombre del mes\")\n",
    "year = int(input(\"Introduzca el año\"))\n",
    "\n",
    "MESES = ('enero', 'febrero', 'marzo', 'abril', 'mayo', 'junio', 'julio', 'agosto', 'septiembre', 'octubre', 'noviembre', 'diciembre')\n",
    "\n",
    "DIAS = (1, 2, 3, 4, 5, 6, 7, 8, 9, 10, \n",
    "        11, 12, 13, 14, 15, 16, 17, 18, 19, 20, \n",
    "        21, 22, 23, 24, 25, 26, 27, 28, 29, 30, 31)\n",
    "\n",
    "if dia in DIAS and mes in MESES: # Hacemos un primer cribado de fechas con rangos normales y buscamos excepciones\n",
    "\n",
    "    if mes == 'febrero' and (dia == 30 or dia == 31):\n",
    "        print(f\"La fecha no es correcta. Febrero no puede tener {dia} días\")\n",
    "    elif mes == 'febrero' and dia == 29:\n",
    "        # En este caso particular tenemos que comprobar si el año dado es bisiesto y, por lo tanto, puede tener 29 días\n",
    "        if year %4 == 0 :   \n",
    "            if year %100 == 0  and year %400 != 0 :\n",
    "                bisiesto = False\n",
    "            else:\n",
    "                bisiesto = True\n",
    "        else:\n",
    "            bisiesto = False\n",
    "        #Salgo del bucle y en función de si es bisiesto o no, la fecha será válida\n",
    "        if bisiesto:\n",
    "            print(f\"¡La fecha introducida es válida! {year} fue un año bisiesto\")\n",
    "        else: \n",
    "            print(\"La fecha introducida no es válida: febrero no puede tener 29 días en un año no bisiesto\")\n",
    "    elif mes == ('abril' or 'junio'or 'septiembre' or 'noviembre') and dia == 31:\n",
    "        print(f\"La fecha introducida no es válida: {mes} no puede tener 31 días\")\n",
    "    else: \n",
    "        print(\"¡La fecha introducida es válida!\")\n",
    "else:\n",
    "    print(\"La fecha introducida no es válida\")\n",
    "\n",
    "\n"
   ]
  },
  {
   "cell_type": "markdown",
   "metadata": {},
   "source": [
    "Ejercicios while:\n",
    "\n",
    "Calcular la suma de los primeros 10 números naturales utilizando un bucle while\n",
    "\n",
    "Descripción: Utiliza un bucle while para calcular la suma de los primeros 10 números naturales (1 + 2 + 3 + ... + 10)."
   ]
  },
  {
   "cell_type": "code",
   "execution_count": 55,
   "metadata": {},
   "outputs": [
    {
     "name": "stdout",
     "output_type": "stream",
     "text": [
      "La suma de los primeros 10 números naturañes es 55\n"
     ]
    }
   ],
   "source": [
    "contador = 1\n",
    "suma = 0\n",
    "\n",
    "while (contador <= 10):\n",
    "    suma = suma + contador\n",
    "    contador += 1\n",
    "\n",
    "print(f\"La suma de los primeros 10 números naturañes es {suma}\")"
   ]
  },
  {
   "cell_type": "markdown",
   "metadata": {},
   "source": [
    "Juego de adivinanza utilizando un bucle while\n",
    "\n",
    "Descripción: Crea un juego de adivinanza en el que el jugador tiene que adivinar un número secreto (tendrá que ser entre el 0 y el 10). Utiliza un bucle while para permitir múltiples intentos hasta que el jugador adivine correctamente."
   ]
  },
  {
   "cell_type": "code",
   "execution_count": 58,
   "metadata": {},
   "outputs": [
    {
     "name": "stdout",
     "output_type": "stream",
     "text": [
      "Adivina en qué número estoy pensando\n",
      "Ese no ha sido. ¡Inténtalo de nuevo!\n",
      "Ese no ha sido. ¡Inténtalo de nuevo!\n",
      "¡Enhorabuena! 5 era el número en el que estaba pensando\n"
     ]
    }
   ],
   "source": [
    "numero_secreto = 5\n",
    "\n",
    "print(\"Adivina en qué número estoy pensando\")\n",
    "intento = int(input(\"Introduce un numero entre 0 y 10\"))\n",
    "\n",
    "while (intento != numero_secreto):\n",
    "    print(\"Ese no ha sido. ¡Inténtalo de nuevo!\")\n",
    "    intento = int(input(\"Introduce un numero entre 0 y 10\"))\n",
    "\n",
    "print(f\"¡Enhorabuena! {intento} era el número en el que estaba pensando\")\n"
   ]
  }
 ],
 "metadata": {
  "kernelspec": {
   "display_name": "base",
   "language": "python",
   "name": "python3"
  },
  "language_info": {
   "codemirror_mode": {
    "name": "ipython",
    "version": 3
   },
   "file_extension": ".py",
   "mimetype": "text/x-python",
   "name": "python",
   "nbconvert_exporter": "python",
   "pygments_lexer": "ipython3",
   "version": "3.12.4"
  }
 },
 "nbformat": 4,
 "nbformat_minor": 2
}
