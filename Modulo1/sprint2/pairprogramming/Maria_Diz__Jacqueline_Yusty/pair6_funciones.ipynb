{
 "cells": [
  {
   "cell_type": "markdown",
   "metadata": {},
   "source": [
    "Calcular el área de un círculo.\n",
    "\n",
    "Descripción: Crea una función llamada calcular_area_circulo que tome el radio como parámetro y devuelva el área del círculo.\n",
    "\n",
    "NOTA: Os dejamos aquí un link para recordar comose calculaba el área de un círculo."
   ]
  },
  {
   "cell_type": "code",
   "execution_count": 1,
   "metadata": {},
   "outputs": [
    {
     "name": "stdout",
     "output_type": "stream",
     "text": [
      "El area del circulo es 0.785\n"
     ]
    }
   ],
   "source": [
    "# a = pi * r**2\n",
    "\n",
    "radio = 0.5\n",
    "\n",
    "pi = 3.14\n",
    "\n",
    "def calcular_area_circulo(radio):\n",
    "\n",
    "    area_circulo = pi * radio ** 2\n",
    "\n",
    "    return area_circulo\n",
    "\n",
    "resultado = calcular_area_circulo(radio)\n",
    "\n",
    "print(\"El area del circulo es\", resultado)\n"
   ]
  },
  {
   "cell_type": "markdown",
   "metadata": {},
   "source": []
  },
  {
   "cell_type": "markdown",
   "metadata": {},
   "source": [
    "Contar la cantidad de caracteres en una cadena.\n",
    "\n",
    "Descripción: Crea una función llamada contar_caracteres que tome una cadena como parámetro y devuelva la cantidad de caracteres que contiene.\n"
   ]
  },
  {
   "cell_type": "code",
   "execution_count": 5,
   "metadata": {},
   "outputs": [
    {
     "name": "stdout",
     "output_type": "stream",
     "text": [
      "Esta cadena tiene 17 caracteres\n"
     ]
    }
   ],
   "source": [
    "def contar_caracteres(cadena):\n",
    "    #lista_cadena = list(cadena)\n",
    "    cantidad_caracteres = len(cadena)\n",
    "    return cantidad_caracteres\n",
    "\n",
    "cadena = \"Time is your ally\"\n",
    "cantidad = contar_caracteres(cadena)\n",
    "\n",
    "print(f\"Esta cadena tiene {cantidad} caracteres\")\n",
    "\n"
   ]
  },
  {
   "cell_type": "markdown",
   "metadata": {},
   "source": [
    "Determinar si una cadena es un palíndromo.\n",
    "\n",
    "Descripción: Crea una función llamada es_palindromo que tome una cadena como parámetro y devuelva True si es un palíndromo, o False si no lo es.\n",
    "\n",
    "¿Qué es un palíndromo?. Es una palabra que al learla tando al derecho como al reves se lee lo mismo.\n",
    "\n",
    "\n",
    "Tareas\n",
    "\n",
    "++ Definir palabra\n",
    "++ Establer si reflejando la palabra es igual a la palabra definida\n",
    "++ Si es igual debe indicar que es un palindromo (True)\n",
    "++ Si no es igual no es un palindromo (false)\n"
   ]
  },
  {
   "cell_type": "code",
   "execution_count": 9,
   "metadata": {},
   "outputs": [
    {
     "name": "stdout",
     "output_type": "stream",
     "text": [
      "False\n"
     ]
    }
   ],
   "source": [
    "cadena = \"pedro\"\n",
    "\n",
    "def es_palindromo(cadena):\n",
    "\n",
    "    \n",
    "    if cadena == cadena[::-1] :\n",
    "        return   True\n",
    "            \n",
    "    else: \n",
    "       return False\n",
    "\n",
    "\n",
    "\n",
    "resultado = es_palindromo(cadena)\n",
    "\n",
    "print(resultado)\n"
   ]
  },
  {
   "cell_type": "markdown",
   "metadata": {},
   "source": [
    "Calcular el promedio de una lista de números.\n",
    "\n",
    "Descripción: Crea una función llamada calcular_promedio que tome una lista de números como parámetro y devuelva el promedio de todos sus elementos.\n"
   ]
  },
  {
   "cell_type": "code",
   "execution_count": 11,
   "metadata": {},
   "outputs": [
    {
     "name": "stdout",
     "output_type": "stream",
     "text": [
      "El promedio de la lista de numeros es 4.4\n"
     ]
    }
   ],
   "source": [
    "lista_numeros = [1, 7, 3, 5, 6]\n",
    "\n",
    "def calcular_promedio(lista_numeros):\n",
    "    promedio = sum(lista_numeros)/len(lista_numeros)\n",
    "\n",
    "    return promedio\n",
    "\n",
    "resultado = calcular_promedio(lista_numeros)\n",
    "\n",
    "print(f\"El promedio de la lista de numeros es {resultado}\")\n"
   ]
  },
  {
   "cell_type": "markdown",
   "metadata": {},
   "source": [
    "Calcular el interés compuesto.\n",
    "\n",
    "Descripción: Crea una función llamada calcular_interes_compuesto que tome el capital inicial, la tasa de interés y el número de períodos como parámetros y devuelva el beneficio final después del interés compuesto."
   ]
  },
  {
   "cell_type": "code",
   "execution_count": 21,
   "metadata": {},
   "outputs": [
    {
     "name": "stdout",
     "output_type": "stream",
     "text": [
      "El beneficio fila despues del interes compuesto 116490.43\n"
     ]
    }
   ],
   "source": [
    "# cf = ci(1+i)**t\n",
    "\n",
    "capital = 5000\n",
    "periodos = 12\n",
    "tasa = 0.3\n",
    "\n",
    "def calcular_interes_compuesto(capital, tasa, periodos):\n",
    "\n",
    "    capital_final = capital*((1+tasa)**periodos)\n",
    "    capital_entero = round(capital_final, 2)\n",
    "\n",
    "    return capital_entero\n",
    "\n",
    "resultado = calcular_interes_compuesto(capital, tasa, periodos) \n",
    "\n",
    "print(\"El beneficio fila despues del interes compuesto\", resultado)\n",
    "\n",
    "\n"
   ]
  },
  {
   "cell_type": "markdown",
   "metadata": {},
   "source": [
    "Validar si una palabra es un anagrama de otra.\n",
    "\n",
    "Descripción: Crea una función llamada es_anagrama que tome dos palabras como parámetros y devuelva True si una es un anagrama de la otra, o False si no lo es.\n",
    "\n",
    "¿Qué es un anagrama? Palabra que reordenando sus letras da lugar a otra palabra\n",
    "\n",
    "++Definir las dos palaras\n",
    "++Saber si tiene las mismas letras \n",
    "++Enviar mensaje True si se cumple lo anterior\n",
    "**Si no enviar mensaje False\n",
    "\n"
   ]
  },
  {
   "cell_type": "code",
   "execution_count": 4,
   "metadata": {},
   "outputs": [],
   "source": [
    "palabra1 = \"roma\"\n",
    "palabra2 = \"amor\"\n",
    "\n",
    "def es_anagrama(palabra1, palabra2):\n",
    "        \n",
    "    letras1 = sorted(palabra1)\n",
    "    letras2 = sorted(palabra2)\n",
    "\n",
    "    if letras1 == letras2 :\n",
    "        return True\n",
    "    else: \n",
    "        return False\n",
    "\n"
   ]
  },
  {
   "cell_type": "markdown",
   "metadata": {},
   "source": [
    "Validar si una cadena de texto es un isograma.\n",
    "\n",
    "Descripción: Crea una función llamada es_isograma que tome una cadena de texto como parámetro y devuelva True si es un isograma. En caso contrario, devuelve False.\n",
    "Qué es un isograma? Una palabra que no contiene letras repetidas."
   ]
  },
  {
   "cell_type": "code",
   "execution_count": 1,
   "metadata": {},
   "outputs": [
    {
     "name": "stdout",
     "output_type": "stream",
     "text": [
      "<function es_isograma at 0x7f51fe6e1580>\n"
     ]
    }
   ],
   "source": [
    "cadena_texto = input(\"Introduce una palabra:\")\n",
    "\n",
    "def es_isograma(cadena):\n",
    "\n",
    "    if cadena_texto == True:\n",
    "        return True\n",
    "    else:\n",
    "        return False\n",
    "comprobacion = es_isograma\n",
    "\n",
    "print(comprobacion)\n",
    "    "
   ]
  },
  {
   "cell_type": "markdown",
   "metadata": {},
   "source": [
    "Concatenar múltiples cadenas de texto\n",
    "\n",
    "Descripción: Crea una función llamada concatenar_cadenas que tome una cantidad variable de cadenas de texto como argumentos y devuelva una única cadena que contenga la concatenación de todas las cadenas ingresadas."
   ]
  },
  {
   "cell_type": "code",
   "execution_count": 23,
   "metadata": {},
   "outputs": [
    {
     "name": "stdout",
     "output_type": "stream",
     "text": [
      "Esta es la cadena concatenada  La Disciplina te ayuda\n"
     ]
    }
   ],
   "source": [
    "def concatenar_cadenas(*cadenas):\n",
    "\n",
    "    resultado = \" \"\n",
    "\n",
    "    for texto in cadenas :\n",
    "\n",
    "        resultado += texto\n",
    "\n",
    "    return resultado\n",
    "\n",
    "resultado = concatenar_cadenas(\"La\", \" \" \"Disciplina\", \" \" \"te\", \" \" \"ayuda\")\n",
    "\n",
    "print(f\"Esta es la cadena concatenada {resultado}\")"
   ]
  },
  {
   "cell_type": "markdown",
   "metadata": {},
   "source": [
    "Crear un diccionario con información de una persona.\n",
    "\n",
    "Descripción: Crea una función llamada crear_persona que tome como argumentos clave-valor los datos de una persona, como nombre, edad, ciudad, etc., y devuelva un diccionario con toda la información ingresada."
   ]
  },
  {
   "cell_type": "code",
   "execution_count": 8,
   "metadata": {},
   "outputs": [
    {
     "name": "stdout",
     "output_type": "stream",
     "text": [
      "{'nombre': 'Juan', 'edad': 25, 'ciudad': 'Armenia'}\n"
     ]
    }
   ],
   "source": [
    "informacion_paciente = {'nombre': 'Juan', 'edad': 25, 'ciudad': 'Armenia'}\n",
    "\n",
    "def crear_persona(**datos):\n",
    "\n",
    "    return datos\n",
    "\n",
    "paciente = crear_persona(nombre= 'Juan', edad= 25, ciudad= 'Armenia')\n",
    "\n",
    "print(paciente)\n",
    "\n",
    "#print(f\"Esta la infromacion del primer paciente:{paciente}\")\n",
    "\n"
   ]
  },
  {
   "cell_type": "markdown",
   "metadata": {},
   "source": [
    "Encontrar el número que falta en una lista ordenada de números consecutivos.\n",
    "\n",
    "Descripción: Crea una función llamada encontrar_numero_faltante que tome una lista de números consecutivos (del 1 al N, sin repetir) con un número faltante y devuelva ese número faltante."
   ]
  },
  {
   "cell_type": "code",
   "execution_count": null,
   "metadata": {},
   "outputs": [],
   "source": []
  },
  {
   "cell_type": "markdown",
   "metadata": {},
   "source": [
    "Encontrar el elemento duplicado en una lista de números.\n",
    "\n",
    "Descripción: Crea una función llamada encontrar_duplicado que tome una lista de números enteros y devuelva el elemento que está duplicado en la lista."
   ]
  },
  {
   "cell_type": "code",
   "execution_count": null,
   "metadata": {},
   "outputs": [],
   "source": []
  }
 ],
 "metadata": {
  "kernelspec": {
   "display_name": "base",
   "language": "python",
   "name": "python3"
  },
  "language_info": {
   "codemirror_mode": {
    "name": "ipython",
    "version": 3
   },
   "file_extension": ".py",
   "mimetype": "text/x-python",
   "name": "python",
   "nbconvert_exporter": "python",
   "pygments_lexer": "ipython3",
   "version": "3.12.4"
  }
 },
 "nbformat": 4,
 "nbformat_minor": 2
}
