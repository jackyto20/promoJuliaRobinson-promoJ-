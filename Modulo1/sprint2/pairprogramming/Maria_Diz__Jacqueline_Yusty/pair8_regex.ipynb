{
 "cells": [
  {
   "cell_type": "markdown",
   "metadata": {},
   "source": [
    "\n",
    "Descripción: Verificar si una cadena representa un código postal válido de 5 dígitos.\n",
    "\n",
    "Probad para cada uno de los códigos postales que tenemos en la siguiente lista:\n",
    "\n",
    "Copy\n",
    "codigos_postales = [\"12345\", \"190037\", \"78409\", \"986449\", \"19305\"]\n",
    "Encontrar todas las palabras que comienzan con una vocal en un texto.\n",
    "\n",
    "Descripción: Encontrar todas las palabras en un texto que comienzan con una vocal (a, e, i, o, u).\n",
    "\n",
    "Probad con el siguiente string:\n",
    "\n",
    "Copy\n",
    "texto = \"El perro está ladrando. Ana tiene una manzana. La casa es grande.\"\n",
    "Extraer todos los hashtags de un texto.\n",
    "\n",
    "Descripción: Extraer todos los hashtags (#) presentes en una cadena de texto.\n",
    "\n",
    "Probad con el siguiente string:\n",
    "\n",
    "Copy\n",
    "texto = \"Me encanta el #deporte. #FelizViernes a todos. Estoy en la conferencia #Tech2022.\"\n",
    "Buscar todos los números decimales en una cadena de texto.\n",
    "\n",
    "Descripción: Encontrar todos los números decimales presentes en una cadena de texto.\n",
    "\n",
    "Probad con el siguiente string:\n",
    "\n",
    "Copy\n",
    "texto = \"El precio es $19.99. La temperatura es 25.5°C. El índice de inflación es del 2.5%.\"     \n",
    "Validar un nombre de usuario.\n",
    "\n",
    "Descripción: Verificar si una cadena representa un nombre de usuario válido, que contiene solo letras minúsculas, números y guiones bajos (_).\n",
    "\n",
    "Probad con la siguiente lista de usuarios:\n",
    "\n",
    "Copy\n",
    "lista_usuarios = [\"juan_doe123\", \"lola_12\", \"Aurora_23\", \"12marta_lopez\"]\n",
    "Encontrar todas las fechas en formato \"dd/mm/aaaa\" en un texto.\n",
    "\n",
    "Descripción: Encontrar todas las fechas válidas en formato \"dd/mm/aaaa\" presentes en una cadena de texto.\n",
    "\n",
    "Probad con el siguiente string:\n",
    "\n",
    "Copy\n",
    "texto = \"La fecha límite es el 31/12/2022. Hoy es 01/01/2023. Cumpleaños: 15/05/1990.\"\n",
    "Remover caracteres especiales.\n",
    "\n",
    "Descripción: Dada una cadena de texto, remover cualquier carácter especial, como signos de puntuación y símbolos.\n",
    "\n",
    "Probad con el siguiente string:\n",
    "\n",
    "Copy\n",
    "texto = '¡Hola, cómo estás? ¿Todo bien?'\n",
    "BONUS: Enmascarar información personal.\n",
    "\n",
    "Descripción: Dada una cadena de texto que contiene información personal, como nombres y direcciones, enmascarar esta información reemplazándola con asteriscos (*).\n",
    "\n",
    "Probad con este string:\n",
    "\n",
    "Copy\n",
    "texto = 'El nombre del cliente es John Doe y su dirección es 123 Main Street.'"
   ]
  },
  {
   "cell_type": "markdown",
   "metadata": {},
   "source": [
    "Validar un número de teléfono.\n",
    "\n",
    "Descripción: Verificar si una cadena representa un número de teléfono válido en el formato (XXX) XXX-XXXX.\n",
    "\n",
    "Probad para cada uno de los teléfonos que tenemos en la siguiente lista:\n",
    "\n",
    "Copy\n",
    "telefonos = [\"(123) 456-7890\", \"178 1890-733\", \"(555) 238-1987\", \"(123) 4560-7890\", \"(ABC) 098-1111\"]\n"
   ]
  },
  {
   "cell_type": "code",
   "execution_count": 6,
   "metadata": {},
   "outputs": [
    {
     "name": "stdout",
     "output_type": "stream",
     "text": [
      "Ese numero (123) 456-7890 de telefono valido\n",
      "Ese numero 178 1890-733 de telefono no es valido\n",
      "Ese numero (555) 238-1987 de telefono valido\n",
      "Ese numero (123) 4560-7890 de telefono no es valido\n",
      "Ese numero (ABC) 098-1111 de telefono no es valido\n"
     ]
    }
   ],
   "source": [
    "import re\n",
    "\n",
    "telefonos = [\"(123) 456-7890\", \"178 1890-733\", \"(555) 238-1987\", \"(123) 4560-7890\", \"(ABC) 098-1111\"]\n",
    "\n",
    "patron_telefonos = r\"^\\(\\d{3}\\) \\d{3}-\\d{4}$\"\n",
    "\n",
    "for numeros in telefonos: \n",
    "    if re.findall(patron_telefonos, numeros):\n",
    "        print(f\"Ese numero {numeros} de telefono valido\")\n",
    "\n",
    "    else:\n",
    "        print(f\"Ese numero {numeros} de telefono no es valido\")\n",
    "        \n"
   ]
  },
  {
   "cell_type": "markdown",
   "metadata": {},
   "source": [
    "Buscar todas las direcciones de correo electrónico en un texto.\n",
    "\n",
    "Descripción: Encontrar todas las direcciones de correo electrónico presentes en una cadena de texto.\n",
    "\n",
    "Probad con el siguiente string:\n",
    "\n",
    "Copy\n",
    "texto = \"Mi correo es user@example.com. Contacta conmigo en john.doe@email.com\"\n",
    "\n"
   ]
  },
  {
   "cell_type": "code",
   "execution_count": 7,
   "metadata": {},
   "outputs": [
    {
     "name": "stdout",
     "output_type": "stream",
     "text": [
      "['user@example.com', 'john.doe@email.com']\n"
     ]
    }
   ],
   "source": [
    "# Texto de ejemplo\n",
    "texto = \"Mi correo es user@example.com. Contacta conmigo en john.doe@email.com\"\n",
    "\n",
    "# Expresión regular para encontrar correos electrónicos\n",
    "patron = r\"[a-zA-Z0-9._%+-]+@[a-zA-Z0-9.-]+\\.[a-zA-Z]{2,}\"\n",
    "\n",
    "#[a-z][A-Z][0-9][._%+-]+@\n",
    "\n",
    "# Buscar todas las coincidencias en el texto\n",
    "correos = re.findall(patron, texto)\n",
    "\n",
    "# Mostrar los correos encontrados\n",
    "print(correos)"
   ]
  }
 ],
 "metadata": {
  "kernelspec": {
   "display_name": "base",
   "language": "python",
   "name": "python3"
  },
  "language_info": {
   "codemirror_mode": {
    "name": "ipython",
    "version": 3
   },
   "file_extension": ".py",
   "mimetype": "text/x-python",
   "name": "python",
   "nbconvert_exporter": "python",
   "pygments_lexer": "ipython3",
   "version": "3.12.4"
  }
 },
 "nbformat": 4,
 "nbformat_minor": 2
}
